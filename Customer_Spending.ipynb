{
 "cells": [
  {
   "cell_type": "markdown",
   "id": "f2c43941-71c3-4f83-ab70-14952388da47",
   "metadata": {
    "id": "f2c43941-71c3-4f83-ab70-14952388da47"
   },
   "source": [
    "# **Customer Spending Classifier**"
   ]
  },
  {
   "cell_type": "markdown",
   "id": "5kaDdn3Jfrzn",
   "metadata": {
    "id": "5kaDdn3Jfrzn"
   },
   "source": [
    "## **1. Load the Dataset**\n",
    "- Import necessary libraries  \n",
    "- Read the dataset from a local file or an online source  \n",
    "- Display basic dataset information (`head()`, `describe()`, `info()`)  \n",
    "\n"
   ]
  },
  {
   "cell_type": "code",
   "execution_count": 19,
   "id": "y159FAnGg_h_",
   "metadata": {
    "id": "y159FAnGg_h_"
   },
   "outputs": [],
   "source": [
    "import pandas as pd\n",
    "import numpy as np\n",
    "import matplotlib.pyplot as plt\n",
    "import seaborn as sns\n",
    "import pickle\n",
    "from sklearn.preprocessing import LabelEncoder\n",
    "from sklearn.preprocessing import MinMaxScaler\n",
    "from sklearn.model_selection import train_test_split\n",
    "from sklearn.ensemble import RandomForestClassifier\n",
    "from sklearn.tree import DecisionTreeClassifier\n",
    "from sklearn.linear_model  import RidgeClassifier\n",
    "from xgboost import XGBClassifier\n",
    "from sklearn.metrics import accuracy_score, precision_score, recall_score, f1_score\n",
    "from sklearn.metrics import classification_report as rep\n",
    "from sklearn.metrics import confusion_matrix as conf\n",
    "from sklearn.metrics import ConfusionMatrixDisplay as cmd"
   ]
  },
  {
   "cell_type": "code",
   "execution_count": 22,
   "id": "d5F-MAC2QQxj",
   "metadata": {
    "colab": {
     "base_uri": "https://localhost:8080/",
     "height": 206
    },
    "id": "d5F-MAC2QQxj",
    "outputId": "9f215841-5dc2-4f1d-9831-cf8e311a4f9b"
   },
   "outputs": [
    {
     "data": {
      "application/vnd.google.colaboratory.intrinsic+json": {
       "summary": "{\n  \"name\": \"df\",\n  \"rows\": 15079,\n  \"fields\": [\n    {\n      \"column\": \"Customer ID\",\n      \"properties\": {\n        \"dtype\": \"string\",\n        \"num_unique_values\": 15079,\n        \"samples\": [\n          \"73ebeee3-01c6-4ffc-8a7f-bf81391443a4\",\n          \"81a16720-019a-4bc7-91c4-1e04e69d81d5\",\n          \"e1034276-ecee-4b46-85e8-8d423f7f035e\"\n        ],\n        \"semantic_type\": \"\",\n        \"description\": \"\"\n      }\n    },\n    {\n      \"column\": \"Age\",\n      \"properties\": {\n        \"dtype\": \"number\",\n        \"std\": 21,\n        \"min\": 18,\n        \"max\": 90,\n        \"num_unique_values\": 73,\n        \"samples\": [\n          24,\n          34,\n          21\n        ],\n        \"semantic_type\": \"\",\n        \"description\": \"\"\n      }\n    },\n    {\n      \"column\": \"Gender\",\n      \"properties\": {\n        \"dtype\": \"category\",\n        \"num_unique_values\": 2,\n        \"samples\": [\n          \"Female\",\n          \"Male\"\n        ],\n        \"semantic_type\": \"\",\n        \"description\": \"\"\n      }\n    },\n    {\n      \"column\": \"Annual Income\",\n      \"properties\": {\n        \"dtype\": \"number\",\n        \"std\": 52249,\n        \"min\": 20022,\n        \"max\": 199974,\n        \"num_unique_values\": 14441,\n        \"samples\": [\n          75279,\n          71541\n        ],\n        \"semantic_type\": \"\",\n        \"description\": \"\"\n      }\n    },\n    {\n      \"column\": \"Spending Score\",\n      \"properties\": {\n        \"dtype\": \"number\",\n        \"std\": 28,\n        \"min\": 1,\n        \"max\": 100,\n        \"num_unique_values\": 100,\n        \"samples\": [\n          100,\n          72\n        ],\n        \"semantic_type\": \"\",\n        \"description\": \"\"\n      }\n    }\n  ]\n}",
       "type": "dataframe",
       "variable_name": "df"
      },
      "text/html": [
       "\n",
       "  <div id=\"df-75213276-0635-4396-a4ba-c55506963bb9\" class=\"colab-df-container\">\n",
       "    <div>\n",
       "<style scoped>\n",
       "    .dataframe tbody tr th:only-of-type {\n",
       "        vertical-align: middle;\n",
       "    }\n",
       "\n",
       "    .dataframe tbody tr th {\n",
       "        vertical-align: top;\n",
       "    }\n",
       "\n",
       "    .dataframe thead th {\n",
       "        text-align: right;\n",
       "    }\n",
       "</style>\n",
       "<table border=\"1\" class=\"dataframe\">\n",
       "  <thead>\n",
       "    <tr style=\"text-align: right;\">\n",
       "      <th></th>\n",
       "      <th>Customer ID</th>\n",
       "      <th>Age</th>\n",
       "      <th>Gender</th>\n",
       "      <th>Annual Income</th>\n",
       "      <th>Spending Score</th>\n",
       "    </tr>\n",
       "  </thead>\n",
       "  <tbody>\n",
       "    <tr>\n",
       "      <th>0</th>\n",
       "      <td>d410ea53-6661-42a9-ad3a-f554b05fd2a7</td>\n",
       "      <td>30</td>\n",
       "      <td>Male</td>\n",
       "      <td>151479</td>\n",
       "      <td>89</td>\n",
       "    </tr>\n",
       "    <tr>\n",
       "      <th>1</th>\n",
       "      <td>1770b26f-493f-46b6-837f-4237fb5a314e</td>\n",
       "      <td>58</td>\n",
       "      <td>Female</td>\n",
       "      <td>185088</td>\n",
       "      <td>95</td>\n",
       "    </tr>\n",
       "    <tr>\n",
       "      <th>2</th>\n",
       "      <td>e81aa8eb-1767-4b77-87ce-1620dc732c5e</td>\n",
       "      <td>62</td>\n",
       "      <td>Female</td>\n",
       "      <td>70912</td>\n",
       "      <td>76</td>\n",
       "    </tr>\n",
       "    <tr>\n",
       "      <th>3</th>\n",
       "      <td>9795712a-ad19-47bf-8886-4f997d6046e3</td>\n",
       "      <td>23</td>\n",
       "      <td>Male</td>\n",
       "      <td>55460</td>\n",
       "      <td>57</td>\n",
       "    </tr>\n",
       "    <tr>\n",
       "      <th>4</th>\n",
       "      <td>64139426-2226-4cd6-bf09-91bce4b4db5e</td>\n",
       "      <td>24</td>\n",
       "      <td>Male</td>\n",
       "      <td>153752</td>\n",
       "      <td>76</td>\n",
       "    </tr>\n",
       "  </tbody>\n",
       "</table>\n",
       "</div>\n",
       "    <div class=\"colab-df-buttons\">\n",
       "\n",
       "  <div class=\"colab-df-container\">\n",
       "    <button class=\"colab-df-convert\" onclick=\"convertToInteractive('df-75213276-0635-4396-a4ba-c55506963bb9')\"\n",
       "            title=\"Convert this dataframe to an interactive table.\"\n",
       "            style=\"display:none;\">\n",
       "\n",
       "  <svg xmlns=\"http://www.w3.org/2000/svg\" height=\"24px\" viewBox=\"0 -960 960 960\">\n",
       "    <path d=\"M120-120v-720h720v720H120Zm60-500h600v-160H180v160Zm220 220h160v-160H400v160Zm0 220h160v-160H400v160ZM180-400h160v-160H180v160Zm440 0h160v-160H620v160ZM180-180h160v-160H180v160Zm440 0h160v-160H620v160Z\"/>\n",
       "  </svg>\n",
       "    </button>\n",
       "\n",
       "  <style>\n",
       "    .colab-df-container {\n",
       "      display:flex;\n",
       "      gap: 12px;\n",
       "    }\n",
       "\n",
       "    .colab-df-convert {\n",
       "      background-color: #E8F0FE;\n",
       "      border: none;\n",
       "      border-radius: 50%;\n",
       "      cursor: pointer;\n",
       "      display: none;\n",
       "      fill: #1967D2;\n",
       "      height: 32px;\n",
       "      padding: 0 0 0 0;\n",
       "      width: 32px;\n",
       "    }\n",
       "\n",
       "    .colab-df-convert:hover {\n",
       "      background-color: #E2EBFA;\n",
       "      box-shadow: 0px 1px 2px rgba(60, 64, 67, 0.3), 0px 1px 3px 1px rgba(60, 64, 67, 0.15);\n",
       "      fill: #174EA6;\n",
       "    }\n",
       "\n",
       "    .colab-df-buttons div {\n",
       "      margin-bottom: 4px;\n",
       "    }\n",
       "\n",
       "    [theme=dark] .colab-df-convert {\n",
       "      background-color: #3B4455;\n",
       "      fill: #D2E3FC;\n",
       "    }\n",
       "\n",
       "    [theme=dark] .colab-df-convert:hover {\n",
       "      background-color: #434B5C;\n",
       "      box-shadow: 0px 1px 3px 1px rgba(0, 0, 0, 0.15);\n",
       "      filter: drop-shadow(0px 1px 2px rgba(0, 0, 0, 0.3));\n",
       "      fill: #FFFFFF;\n",
       "    }\n",
       "  </style>\n",
       "\n",
       "    <script>\n",
       "      const buttonEl =\n",
       "        document.querySelector('#df-75213276-0635-4396-a4ba-c55506963bb9 button.colab-df-convert');\n",
       "      buttonEl.style.display =\n",
       "        google.colab.kernel.accessAllowed ? 'block' : 'none';\n",
       "\n",
       "      async function convertToInteractive(key) {\n",
       "        const element = document.querySelector('#df-75213276-0635-4396-a4ba-c55506963bb9');\n",
       "        const dataTable =\n",
       "          await google.colab.kernel.invokeFunction('convertToInteractive',\n",
       "                                                    [key], {});\n",
       "        if (!dataTable) return;\n",
       "\n",
       "        const docLinkHtml = 'Like what you see? Visit the ' +\n",
       "          '<a target=\"_blank\" href=https://colab.research.google.com/notebooks/data_table.ipynb>data table notebook</a>'\n",
       "          + ' to learn more about interactive tables.';\n",
       "        element.innerHTML = '';\n",
       "        dataTable['output_type'] = 'display_data';\n",
       "        await google.colab.output.renderOutput(dataTable, element);\n",
       "        const docLink = document.createElement('div');\n",
       "        docLink.innerHTML = docLinkHtml;\n",
       "        element.appendChild(docLink);\n",
       "      }\n",
       "    </script>\n",
       "  </div>\n",
       "\n",
       "\n",
       "<div id=\"df-37c9afaa-e8b4-4577-9076-2cfefc7c2408\">\n",
       "  <button class=\"colab-df-quickchart\" onclick=\"quickchart('df-37c9afaa-e8b4-4577-9076-2cfefc7c2408')\"\n",
       "            title=\"Suggest charts\"\n",
       "            style=\"display:none;\">\n",
       "\n",
       "<svg xmlns=\"http://www.w3.org/2000/svg\" height=\"24px\"viewBox=\"0 0 24 24\"\n",
       "     width=\"24px\">\n",
       "    <g>\n",
       "        <path d=\"M19 3H5c-1.1 0-2 .9-2 2v14c0 1.1.9 2 2 2h14c1.1 0 2-.9 2-2V5c0-1.1-.9-2-2-2zM9 17H7v-7h2v7zm4 0h-2V7h2v10zm4 0h-2v-4h2v4z\"/>\n",
       "    </g>\n",
       "</svg>\n",
       "  </button>\n",
       "\n",
       "<style>\n",
       "  .colab-df-quickchart {\n",
       "      --bg-color: #E8F0FE;\n",
       "      --fill-color: #1967D2;\n",
       "      --hover-bg-color: #E2EBFA;\n",
       "      --hover-fill-color: #174EA6;\n",
       "      --disabled-fill-color: #AAA;\n",
       "      --disabled-bg-color: #DDD;\n",
       "  }\n",
       "\n",
       "  [theme=dark] .colab-df-quickchart {\n",
       "      --bg-color: #3B4455;\n",
       "      --fill-color: #D2E3FC;\n",
       "      --hover-bg-color: #434B5C;\n",
       "      --hover-fill-color: #FFFFFF;\n",
       "      --disabled-bg-color: #3B4455;\n",
       "      --disabled-fill-color: #666;\n",
       "  }\n",
       "\n",
       "  .colab-df-quickchart {\n",
       "    background-color: var(--bg-color);\n",
       "    border: none;\n",
       "    border-radius: 50%;\n",
       "    cursor: pointer;\n",
       "    display: none;\n",
       "    fill: var(--fill-color);\n",
       "    height: 32px;\n",
       "    padding: 0;\n",
       "    width: 32px;\n",
       "  }\n",
       "\n",
       "  .colab-df-quickchart:hover {\n",
       "    background-color: var(--hover-bg-color);\n",
       "    box-shadow: 0 1px 2px rgba(60, 64, 67, 0.3), 0 1px 3px 1px rgba(60, 64, 67, 0.15);\n",
       "    fill: var(--button-hover-fill-color);\n",
       "  }\n",
       "\n",
       "  .colab-df-quickchart-complete:disabled,\n",
       "  .colab-df-quickchart-complete:disabled:hover {\n",
       "    background-color: var(--disabled-bg-color);\n",
       "    fill: var(--disabled-fill-color);\n",
       "    box-shadow: none;\n",
       "  }\n",
       "\n",
       "  .colab-df-spinner {\n",
       "    border: 2px solid var(--fill-color);\n",
       "    border-color: transparent;\n",
       "    border-bottom-color: var(--fill-color);\n",
       "    animation:\n",
       "      spin 1s steps(1) infinite;\n",
       "  }\n",
       "\n",
       "  @keyframes spin {\n",
       "    0% {\n",
       "      border-color: transparent;\n",
       "      border-bottom-color: var(--fill-color);\n",
       "      border-left-color: var(--fill-color);\n",
       "    }\n",
       "    20% {\n",
       "      border-color: transparent;\n",
       "      border-left-color: var(--fill-color);\n",
       "      border-top-color: var(--fill-color);\n",
       "    }\n",
       "    30% {\n",
       "      border-color: transparent;\n",
       "      border-left-color: var(--fill-color);\n",
       "      border-top-color: var(--fill-color);\n",
       "      border-right-color: var(--fill-color);\n",
       "    }\n",
       "    40% {\n",
       "      border-color: transparent;\n",
       "      border-right-color: var(--fill-color);\n",
       "      border-top-color: var(--fill-color);\n",
       "    }\n",
       "    60% {\n",
       "      border-color: transparent;\n",
       "      border-right-color: var(--fill-color);\n",
       "    }\n",
       "    80% {\n",
       "      border-color: transparent;\n",
       "      border-right-color: var(--fill-color);\n",
       "      border-bottom-color: var(--fill-color);\n",
       "    }\n",
       "    90% {\n",
       "      border-color: transparent;\n",
       "      border-bottom-color: var(--fill-color);\n",
       "    }\n",
       "  }\n",
       "</style>\n",
       "\n",
       "  <script>\n",
       "    async function quickchart(key) {\n",
       "      const quickchartButtonEl =\n",
       "        document.querySelector('#' + key + ' button');\n",
       "      quickchartButtonEl.disabled = true;  // To prevent multiple clicks.\n",
       "      quickchartButtonEl.classList.add('colab-df-spinner');\n",
       "      try {\n",
       "        const charts = await google.colab.kernel.invokeFunction(\n",
       "            'suggestCharts', [key], {});\n",
       "      } catch (error) {\n",
       "        console.error('Error during call to suggestCharts:', error);\n",
       "      }\n",
       "      quickchartButtonEl.classList.remove('colab-df-spinner');\n",
       "      quickchartButtonEl.classList.add('colab-df-quickchart-complete');\n",
       "    }\n",
       "    (() => {\n",
       "      let quickchartButtonEl =\n",
       "        document.querySelector('#df-37c9afaa-e8b4-4577-9076-2cfefc7c2408 button');\n",
       "      quickchartButtonEl.style.display =\n",
       "        google.colab.kernel.accessAllowed ? 'block' : 'none';\n",
       "    })();\n",
       "  </script>\n",
       "</div>\n",
       "\n",
       "    </div>\n",
       "  </div>\n"
      ],
      "text/plain": [
       "                            Customer ID  Age  Gender  Annual Income  \\\n",
       "0  d410ea53-6661-42a9-ad3a-f554b05fd2a7   30    Male         151479   \n",
       "1  1770b26f-493f-46b6-837f-4237fb5a314e   58  Female         185088   \n",
       "2  e81aa8eb-1767-4b77-87ce-1620dc732c5e   62  Female          70912   \n",
       "3  9795712a-ad19-47bf-8886-4f997d6046e3   23    Male          55460   \n",
       "4  64139426-2226-4cd6-bf09-91bce4b4db5e   24    Male         153752   \n",
       "\n",
       "   Spending Score  \n",
       "0              89  \n",
       "1              95  \n",
       "2              76  \n",
       "3              57  \n",
       "4              76  "
      ]
     },
     "execution_count": 22,
     "metadata": {},
     "output_type": "execute_result"
    }
   ],
   "source": [
    "df=pd.read_csv('cust_spend.csv')\n",
    "df.head()"
   ]
  },
  {
   "cell_type": "code",
   "execution_count": 23,
   "id": "6TbxAcRDR0Od",
   "metadata": {
    "colab": {
     "base_uri": "https://localhost:8080/",
     "height": 300
    },
    "id": "6TbxAcRDR0Od",
    "outputId": "27ee4670-a2ce-4389-8512-671d6ec1c6ae"
   },
   "outputs": [
    {
     "data": {
      "application/vnd.google.colaboratory.intrinsic+json": {
       "summary": "{\n  \"name\": \"df\",\n  \"rows\": 8,\n  \"fields\": [\n    {\n      \"column\": \"Age\",\n      \"properties\": {\n        \"dtype\": \"number\",\n        \"std\": 5313.846781202326,\n        \"min\": 18.0,\n        \"max\": 15079.0,\n        \"num_unique_values\": 8,\n        \"samples\": [\n          54.191590954307316,\n          54.0,\n          15079.0\n        ],\n        \"semantic_type\": \"\",\n        \"description\": \"\"\n      }\n    },\n    {\n      \"column\": \"Annual Income\",\n      \"properties\": {\n        \"dtype\": \"number\",\n        \"std\": 65113.71932206708,\n        \"min\": 15079.0,\n        \"max\": 199974.0,\n        \"num_unique_values\": 8,\n        \"samples\": [\n          109742.88056237152,\n          109190.0,\n          15079.0\n        ],\n        \"semantic_type\": \"\",\n        \"description\": \"\"\n      }\n    },\n    {\n      \"column\": \"Spending Score\",\n      \"properties\": {\n        \"dtype\": \"number\",\n        \"std\": 5314.534466194705,\n        \"min\": 1.0,\n        \"max\": 15079.0,\n        \"num_unique_values\": 8,\n        \"samples\": [\n          50.59161748126534,\n          51.0,\n          15079.0\n        ],\n        \"semantic_type\": \"\",\n        \"description\": \"\"\n      }\n    }\n  ]\n}",
       "type": "dataframe"
      },
      "text/html": [
       "\n",
       "  <div id=\"df-556a00c9-1f81-4a75-b5e0-6fa73e3a754c\" class=\"colab-df-container\">\n",
       "    <div>\n",
       "<style scoped>\n",
       "    .dataframe tbody tr th:only-of-type {\n",
       "        vertical-align: middle;\n",
       "    }\n",
       "\n",
       "    .dataframe tbody tr th {\n",
       "        vertical-align: top;\n",
       "    }\n",
       "\n",
       "    .dataframe thead th {\n",
       "        text-align: right;\n",
       "    }\n",
       "</style>\n",
       "<table border=\"1\" class=\"dataframe\">\n",
       "  <thead>\n",
       "    <tr style=\"text-align: right;\">\n",
       "      <th></th>\n",
       "      <th>Age</th>\n",
       "      <th>Annual Income</th>\n",
       "      <th>Spending Score</th>\n",
       "    </tr>\n",
       "  </thead>\n",
       "  <tbody>\n",
       "    <tr>\n",
       "      <th>count</th>\n",
       "      <td>15079.000000</td>\n",
       "      <td>15079.000000</td>\n",
       "      <td>15079.000000</td>\n",
       "    </tr>\n",
       "    <tr>\n",
       "      <th>mean</th>\n",
       "      <td>54.191591</td>\n",
       "      <td>109742.880562</td>\n",
       "      <td>50.591617</td>\n",
       "    </tr>\n",
       "    <tr>\n",
       "      <th>std</th>\n",
       "      <td>21.119207</td>\n",
       "      <td>52249.425866</td>\n",
       "      <td>28.726977</td>\n",
       "    </tr>\n",
       "    <tr>\n",
       "      <th>min</th>\n",
       "      <td>18.000000</td>\n",
       "      <td>20022.000000</td>\n",
       "      <td>1.000000</td>\n",
       "    </tr>\n",
       "    <tr>\n",
       "      <th>25%</th>\n",
       "      <td>36.000000</td>\n",
       "      <td>64141.000000</td>\n",
       "      <td>26.000000</td>\n",
       "    </tr>\n",
       "    <tr>\n",
       "      <th>50%</th>\n",
       "      <td>54.000000</td>\n",
       "      <td>109190.000000</td>\n",
       "      <td>51.000000</td>\n",
       "    </tr>\n",
       "    <tr>\n",
       "      <th>75%</th>\n",
       "      <td>72.000000</td>\n",
       "      <td>155008.000000</td>\n",
       "      <td>75.000000</td>\n",
       "    </tr>\n",
       "    <tr>\n",
       "      <th>max</th>\n",
       "      <td>90.000000</td>\n",
       "      <td>199974.000000</td>\n",
       "      <td>100.000000</td>\n",
       "    </tr>\n",
       "  </tbody>\n",
       "</table>\n",
       "</div>\n",
       "    <div class=\"colab-df-buttons\">\n",
       "\n",
       "  <div class=\"colab-df-container\">\n",
       "    <button class=\"colab-df-convert\" onclick=\"convertToInteractive('df-556a00c9-1f81-4a75-b5e0-6fa73e3a754c')\"\n",
       "            title=\"Convert this dataframe to an interactive table.\"\n",
       "            style=\"display:none;\">\n",
       "\n",
       "  <svg xmlns=\"http://www.w3.org/2000/svg\" height=\"24px\" viewBox=\"0 -960 960 960\">\n",
       "    <path d=\"M120-120v-720h720v720H120Zm60-500h600v-160H180v160Zm220 220h160v-160H400v160Zm0 220h160v-160H400v160ZM180-400h160v-160H180v160Zm440 0h160v-160H620v160ZM180-180h160v-160H180v160Zm440 0h160v-160H620v160Z\"/>\n",
       "  </svg>\n",
       "    </button>\n",
       "\n",
       "  <style>\n",
       "    .colab-df-container {\n",
       "      display:flex;\n",
       "      gap: 12px;\n",
       "    }\n",
       "\n",
       "    .colab-df-convert {\n",
       "      background-color: #E8F0FE;\n",
       "      border: none;\n",
       "      border-radius: 50%;\n",
       "      cursor: pointer;\n",
       "      display: none;\n",
       "      fill: #1967D2;\n",
       "      height: 32px;\n",
       "      padding: 0 0 0 0;\n",
       "      width: 32px;\n",
       "    }\n",
       "\n",
       "    .colab-df-convert:hover {\n",
       "      background-color: #E2EBFA;\n",
       "      box-shadow: 0px 1px 2px rgba(60, 64, 67, 0.3), 0px 1px 3px 1px rgba(60, 64, 67, 0.15);\n",
       "      fill: #174EA6;\n",
       "    }\n",
       "\n",
       "    .colab-df-buttons div {\n",
       "      margin-bottom: 4px;\n",
       "    }\n",
       "\n",
       "    [theme=dark] .colab-df-convert {\n",
       "      background-color: #3B4455;\n",
       "      fill: #D2E3FC;\n",
       "    }\n",
       "\n",
       "    [theme=dark] .colab-df-convert:hover {\n",
       "      background-color: #434B5C;\n",
       "      box-shadow: 0px 1px 3px 1px rgba(0, 0, 0, 0.15);\n",
       "      filter: drop-shadow(0px 1px 2px rgba(0, 0, 0, 0.3));\n",
       "      fill: #FFFFFF;\n",
       "    }\n",
       "  </style>\n",
       "\n",
       "    <script>\n",
       "      const buttonEl =\n",
       "        document.querySelector('#df-556a00c9-1f81-4a75-b5e0-6fa73e3a754c button.colab-df-convert');\n",
       "      buttonEl.style.display =\n",
       "        google.colab.kernel.accessAllowed ? 'block' : 'none';\n",
       "\n",
       "      async function convertToInteractive(key) {\n",
       "        const element = document.querySelector('#df-556a00c9-1f81-4a75-b5e0-6fa73e3a754c');\n",
       "        const dataTable =\n",
       "          await google.colab.kernel.invokeFunction('convertToInteractive',\n",
       "                                                    [key], {});\n",
       "        if (!dataTable) return;\n",
       "\n",
       "        const docLinkHtml = 'Like what you see? Visit the ' +\n",
       "          '<a target=\"_blank\" href=https://colab.research.google.com/notebooks/data_table.ipynb>data table notebook</a>'\n",
       "          + ' to learn more about interactive tables.';\n",
       "        element.innerHTML = '';\n",
       "        dataTable['output_type'] = 'display_data';\n",
       "        await google.colab.output.renderOutput(dataTable, element);\n",
       "        const docLink = document.createElement('div');\n",
       "        docLink.innerHTML = docLinkHtml;\n",
       "        element.appendChild(docLink);\n",
       "      }\n",
       "    </script>\n",
       "  </div>\n",
       "\n",
       "\n",
       "<div id=\"df-3e77d814-00cd-4240-b35b-6e48c1e1ee9a\">\n",
       "  <button class=\"colab-df-quickchart\" onclick=\"quickchart('df-3e77d814-00cd-4240-b35b-6e48c1e1ee9a')\"\n",
       "            title=\"Suggest charts\"\n",
       "            style=\"display:none;\">\n",
       "\n",
       "<svg xmlns=\"http://www.w3.org/2000/svg\" height=\"24px\"viewBox=\"0 0 24 24\"\n",
       "     width=\"24px\">\n",
       "    <g>\n",
       "        <path d=\"M19 3H5c-1.1 0-2 .9-2 2v14c0 1.1.9 2 2 2h14c1.1 0 2-.9 2-2V5c0-1.1-.9-2-2-2zM9 17H7v-7h2v7zm4 0h-2V7h2v10zm4 0h-2v-4h2v4z\"/>\n",
       "    </g>\n",
       "</svg>\n",
       "  </button>\n",
       "\n",
       "<style>\n",
       "  .colab-df-quickchart {\n",
       "      --bg-color: #E8F0FE;\n",
       "      --fill-color: #1967D2;\n",
       "      --hover-bg-color: #E2EBFA;\n",
       "      --hover-fill-color: #174EA6;\n",
       "      --disabled-fill-color: #AAA;\n",
       "      --disabled-bg-color: #DDD;\n",
       "  }\n",
       "\n",
       "  [theme=dark] .colab-df-quickchart {\n",
       "      --bg-color: #3B4455;\n",
       "      --fill-color: #D2E3FC;\n",
       "      --hover-bg-color: #434B5C;\n",
       "      --hover-fill-color: #FFFFFF;\n",
       "      --disabled-bg-color: #3B4455;\n",
       "      --disabled-fill-color: #666;\n",
       "  }\n",
       "\n",
       "  .colab-df-quickchart {\n",
       "    background-color: var(--bg-color);\n",
       "    border: none;\n",
       "    border-radius: 50%;\n",
       "    cursor: pointer;\n",
       "    display: none;\n",
       "    fill: var(--fill-color);\n",
       "    height: 32px;\n",
       "    padding: 0;\n",
       "    width: 32px;\n",
       "  }\n",
       "\n",
       "  .colab-df-quickchart:hover {\n",
       "    background-color: var(--hover-bg-color);\n",
       "    box-shadow: 0 1px 2px rgba(60, 64, 67, 0.3), 0 1px 3px 1px rgba(60, 64, 67, 0.15);\n",
       "    fill: var(--button-hover-fill-color);\n",
       "  }\n",
       "\n",
       "  .colab-df-quickchart-complete:disabled,\n",
       "  .colab-df-quickchart-complete:disabled:hover {\n",
       "    background-color: var(--disabled-bg-color);\n",
       "    fill: var(--disabled-fill-color);\n",
       "    box-shadow: none;\n",
       "  }\n",
       "\n",
       "  .colab-df-spinner {\n",
       "    border: 2px solid var(--fill-color);\n",
       "    border-color: transparent;\n",
       "    border-bottom-color: var(--fill-color);\n",
       "    animation:\n",
       "      spin 1s steps(1) infinite;\n",
       "  }\n",
       "\n",
       "  @keyframes spin {\n",
       "    0% {\n",
       "      border-color: transparent;\n",
       "      border-bottom-color: var(--fill-color);\n",
       "      border-left-color: var(--fill-color);\n",
       "    }\n",
       "    20% {\n",
       "      border-color: transparent;\n",
       "      border-left-color: var(--fill-color);\n",
       "      border-top-color: var(--fill-color);\n",
       "    }\n",
       "    30% {\n",
       "      border-color: transparent;\n",
       "      border-left-color: var(--fill-color);\n",
       "      border-top-color: var(--fill-color);\n",
       "      border-right-color: var(--fill-color);\n",
       "    }\n",
       "    40% {\n",
       "      border-color: transparent;\n",
       "      border-right-color: var(--fill-color);\n",
       "      border-top-color: var(--fill-color);\n",
       "    }\n",
       "    60% {\n",
       "      border-color: transparent;\n",
       "      border-right-color: var(--fill-color);\n",
       "    }\n",
       "    80% {\n",
       "      border-color: transparent;\n",
       "      border-right-color: var(--fill-color);\n",
       "      border-bottom-color: var(--fill-color);\n",
       "    }\n",
       "    90% {\n",
       "      border-color: transparent;\n",
       "      border-bottom-color: var(--fill-color);\n",
       "    }\n",
       "  }\n",
       "</style>\n",
       "\n",
       "  <script>\n",
       "    async function quickchart(key) {\n",
       "      const quickchartButtonEl =\n",
       "        document.querySelector('#' + key + ' button');\n",
       "      quickchartButtonEl.disabled = true;  // To prevent multiple clicks.\n",
       "      quickchartButtonEl.classList.add('colab-df-spinner');\n",
       "      try {\n",
       "        const charts = await google.colab.kernel.invokeFunction(\n",
       "            'suggestCharts', [key], {});\n",
       "      } catch (error) {\n",
       "        console.error('Error during call to suggestCharts:', error);\n",
       "      }\n",
       "      quickchartButtonEl.classList.remove('colab-df-spinner');\n",
       "      quickchartButtonEl.classList.add('colab-df-quickchart-complete');\n",
       "    }\n",
       "    (() => {\n",
       "      let quickchartButtonEl =\n",
       "        document.querySelector('#df-3e77d814-00cd-4240-b35b-6e48c1e1ee9a button');\n",
       "      quickchartButtonEl.style.display =\n",
       "        google.colab.kernel.accessAllowed ? 'block' : 'none';\n",
       "    })();\n",
       "  </script>\n",
       "</div>\n",
       "\n",
       "    </div>\n",
       "  </div>\n"
      ],
      "text/plain": [
       "                Age  Annual Income  Spending Score\n",
       "count  15079.000000   15079.000000    15079.000000\n",
       "mean      54.191591  109742.880562       50.591617\n",
       "std       21.119207   52249.425866       28.726977\n",
       "min       18.000000   20022.000000        1.000000\n",
       "25%       36.000000   64141.000000       26.000000\n",
       "50%       54.000000  109190.000000       51.000000\n",
       "75%       72.000000  155008.000000       75.000000\n",
       "max       90.000000  199974.000000      100.000000"
      ]
     },
     "execution_count": 23,
     "metadata": {},
     "output_type": "execute_result"
    }
   ],
   "source": [
    "df.describe()"
   ]
  },
  {
   "cell_type": "code",
   "execution_count": 24,
   "id": "dyk7EtkYI0TD",
   "metadata": {
    "colab": {
     "base_uri": "https://localhost:8080/"
    },
    "id": "dyk7EtkYI0TD",
    "outputId": "02fa8fb1-5682-4fe5-9ae6-18a175b76867"
   },
   "outputs": [
    {
     "data": {
      "text/plain": [
       "Index(['Customer ID', 'Age', 'Gender', 'Annual Income', 'Spending Score'], dtype='object')"
      ]
     },
     "execution_count": 24,
     "metadata": {},
     "output_type": "execute_result"
    }
   ],
   "source": [
    "df.columns"
   ]
  },
  {
   "cell_type": "markdown",
   "id": "37HgOcAmf0kl",
   "metadata": {
    "id": "37HgOcAmf0kl"
   },
   "source": [
    "## **2. Exploratory Data Analysis (EDA)**\n",
    "- Check for missing values  \n",
    "- Visualize feature distributions (e.g., histograms, boxplots)  \n",
    "- Analyze relationships between features  \n",
    "\n"
   ]
  },
  {
   "cell_type": "code",
   "execution_count": 25,
   "id": "lCr8ary8TEj-",
   "metadata": {
    "colab": {
     "base_uri": "https://localhost:8080/"
    },
    "id": "lCr8ary8TEj-",
    "outputId": "aaeb74ba-115d-4895-e2d7-3025e193d88a"
   },
   "outputs": [
    {
     "name": "stdout",
     "output_type": "stream",
     "text": [
      "Customer ID       0\n",
      "Age               0\n",
      "Gender            0\n",
      "Annual Income     0\n",
      "Spending Score    0\n",
      "dtype: int64\n"
     ]
    }
   ],
   "source": [
    "print(df.isnull().sum())\n"
   ]
  },
  {
   "cell_type": "markdown",
   "id": "Q3uYhZjTUDEs",
   "metadata": {
    "id": "Q3uYhZjTUDEs"
   },
   "source": [
    "The dataset has no missing values.\n"
   ]
  },
  {
   "cell_type": "code",
   "execution_count": 26,
   "id": "bYbK4jW2WHRl",
   "metadata": {
    "colab": {
     "base_uri": "https://localhost:8080/"
    },
    "id": "bYbK4jW2WHRl",
    "outputId": "866dc832-2e88-48cb-e47e-c534afd25ac9"
   },
   "outputs": [
    {
     "data": {
      "text/plain": [
       "Index(['Age', 'Gender', 'Annual Income', 'Spending Score'], dtype='object')"
      ]
     },
     "execution_count": 26,
     "metadata": {},
     "output_type": "execute_result"
    }
   ],
   "source": [
    "#The Customer ID is nor relevant to our analysis, so I'll drop it\n",
    "df.drop('Customer ID', axis=1, inplace=True)\n",
    "df.columns"
   ]
  },
  {
   "cell_type": "markdown",
   "id": "_-I39dxTUnbc",
   "metadata": {
    "id": "_-I39dxTUnbc"
   },
   "source": [
    "Since were building a Classification Model, we need to group the target variable, `'Spending Score'`into 3 categories: Low Spender, Medium Spender and High Spender\n",
    "\n",
    "\n",
    "\n",
    "\n"
   ]
  },
  {
   "cell_type": "code",
   "execution_count": 27,
   "id": "6IXaMryQViXS",
   "metadata": {
    "colab": {
     "base_uri": "https://localhost:8080/"
    },
    "id": "6IXaMryQViXS",
    "outputId": "9b16eb24-4d73-4f15-cb00-e7ab1298f83e",
    "scrolled": true
   },
   "outputs": [
    {
     "name": "stdout",
     "output_type": "stream",
     "text": [
      "       Age  Gender  Annual Income  Spending Score Spender Category\n",
      "0       30    Male         151479              89     High Spender\n",
      "1       58  Female         185088              95     High Spender\n",
      "2       62  Female          70912              76     High Spender\n",
      "3       23    Male          55460              57   Medium Spender\n",
      "4       24    Male         153752              76     High Spender\n",
      "...    ...     ...            ...             ...              ...\n",
      "15074   29  Female          97723              30      Low Spender\n",
      "15075   22    Male          73361              74     High Spender\n",
      "15076   18  Female         112337              48   Medium Spender\n",
      "15077   26  Female          94312               5      Low Spender\n",
      "15078   19    Male          78045               2      Low Spender\n",
      "\n",
      "[15079 rows x 5 columns]\n"
     ]
    }
   ],
   "source": [
    "# Function to classify customers into spending categories\n",
    "def classify_spending(score):\n",
    "    if score >= 67:\n",
    "        return \"High Spender\"\n",
    "    elif score >= 34:\n",
    "        return \"Medium Spender\"\n",
    "    else:\n",
    "        return \"Low Spender\"\n",
    "\n",
    "# Apply function to create a new column\n",
    "df[\"Spender Category\"] = df[\"Spending Score\"].apply(classify_spending)\n",
    "print(df)\n"
   ]
  },
  {
   "cell_type": "markdown",
   "id": "0e11f574-8854-420a-a4a7-28334a5b6b84",
   "metadata": {},
   "source": [
    "Add a column that reverse engineers the spending score to give total_spendings from annual income.\n",
    "This variable was created to boost the models accuracy."
   ]
  },
  {
   "cell_type": "code",
   "execution_count": 28,
   "id": "-Y-kuJJ1f3h7",
   "metadata": {
    "colab": {
     "base_uri": "https://localhost:8080/"
    },
    "id": "-Y-kuJJ1f3h7",
    "outputId": "b32f6e3c-a1c7-4b86-fabf-46f239c6b28a"
   },
   "outputs": [
    {
     "name": "stdout",
     "output_type": "stream",
     "text": [
      "   Age  Gender  Annual Income  Spending Score Spender Category  Total Spending\n",
      "0   30    Male         151479              89     High Spender       134816.31\n",
      "1   58  Female         185088              95     High Spender       175833.60\n",
      "2   62  Female          70912              76     High Spender        53893.12\n",
      "3   23    Male          55460              57   Medium Spender        31612.20\n",
      "4   24    Male         153752              76     High Spender       116851.52\n"
     ]
    }
   ],
   "source": [
    "# Calculate Total Spending using Spending Score and Annual Income\n",
    "df[\"Total Spending\"] = (df[\"Spending Score\"] / 100) * df[\"Annual Income\"]\n",
    "\n",
    "# Display first few rows to verify\n",
    "print(df.head())\n"
   ]
  },
  {
   "cell_type": "code",
   "execution_count": 29,
   "id": "TzpNMZjEW0IK",
   "metadata": {
    "colab": {
     "base_uri": "https://localhost:8080/",
     "height": 432
    },
    "id": "TzpNMZjEW0IK",
    "outputId": "09eae85c-db1e-4946-c54d-0210ce8733e9"
   },
   "outputs": [
    {
     "data": {
      "image/png": "[encoded data removed]",
      "text/plain": [
       "<Figure size 1200x500 with 2 Axes>"
      ]
     },
     "metadata": {},
     "output_type": "display_data"
    }
   ],
   "source": [
    "plt.figure(figsize=(12, 5))\n",
    "plt.subplot(1, 2, 1)\n",
    "sns.boxplot(y=df[\"Age\"], color=\"blue\")\n",
    "plt.title(\"Boxplot of Age\")\n",
    "\n",
    "plt.subplot(1, 2, 2)\n",
    "sns.boxplot(y=df[\"Annual Income\"], color=\"green\")\n",
    "plt.title(\"Boxplot of Annual Income\")\n",
    "\n",
    "plt.show()\n"
   ]
  },
  {
   "cell_type": "code",
   "execution_count": 30,
   "id": "ASWAKgLWXGxZ",
   "metadata": {
    "colab": {
     "base_uri": "https://localhost:8080/",
     "height": 458
    },
    "id": "ASWAKgLWXGxZ",
    "outputId": "29ff2b74-0148-4c48-8b70-0126a2a89825"
   },
   "outputs": [
    {
     "data": {
      "image/png": "[encoded data removed]",
      "text/plain": [
       "<Figure size 1200x500 with 2 Axes>"
      ]
     },
     "metadata": {},
     "output_type": "display_data"
    }
   ],
   "source": [
    "# Plot histograms for Age and Annual Income\n",
    "sns.set_style(\"whitegrid\")\n",
    "plt.figure(figsize=(12, 5))\n",
    "plt.subplot(1, 2, 1)\n",
    "sns.histplot(df[\"Age\"], bins=10, kde=True, color=\"blue\")\n",
    "plt.title(\"Age Distribution\")\n",
    "plt.subplot(1, 2, 2)\n",
    "sns.histplot(df[\"Annual Income\"], bins=20, kde=True, color=\"green\")\n",
    "plt.title(\"Annual Income Distribution\")\n",
    "\n",
    "plt.show()\n"
   ]
  },
  {
   "cell_type": "code",
   "execution_count": 31,
   "id": "V-BKqO58XtEO",
   "metadata": {
    "colab": {
     "base_uri": "https://localhost:8080/",
     "height": 1000
    },
    "id": "V-BKqO58XtEO",
    "outputId": "16007326-85fc-4b33-cedc-339db86889e3"
   },
   "outputs": [
    {
     "name": "stderr",
     "output_type": "stream",
     "text": [
      "<ipython-input-31-0fe9a2793cab>:3: FutureWarning: \n",
      "\n",
      "Passing `palette` without assigning `hue` is deprecated and will be removed in v0.14.0. Assign the `x` variable to `hue` and set `legend=False` for the same effect.\n",
      "\n",
      "  sns.countplot(data=df, x=\"Gender\", palette=\"coolwarm\")\n"
     ]
    },
    {
     "data": {
      "image/png": "[encoded data removed]",
      "text/plain": [
       "<Figure size 600x400 with 1 Axes>"
      ]
     },
     "metadata": {},
     "output_type": "display_data"
    },
    {
     "name": "stderr",
     "output_type": "stream",
     "text": [
      "<ipython-input-31-0fe9a2793cab>:11: FutureWarning: \n",
      "\n",
      "Passing `palette` without assigning `hue` is deprecated and will be removed in v0.14.0. Assign the `x` variable to `hue` and set `legend=False` for the same effect.\n",
      "\n",
      "  sns.countplot(data=df, x=\"Spender Category\", palette=\"viridis\", order=[\"Low Spender\", \"Medium Spender\", \"High Spender\"])\n"
     ]
    },
    {
     "data": {
      "image/png": "[encoded data removed]",
      "text/plain": [
       "<Figure size 700x500 with 1 Axes>"
      ]
     },
     "metadata": {},
     "output_type": "display_data"
    }
   ],
   "source": [
    "#Gender Distribution\n",
    "plt.figure(figsize=(6, 4))\n",
    "sns.countplot(data=df, x=\"Gender\", palette=\"coolwarm\")\n",
    "plt.title(\"Gender Distribution\")\n",
    "plt.xlabel(\"Gender\")\n",
    "plt.ylabel(\"Count\")\n",
    "plt.show()\n",
    "\n",
    "#Spender Category\n",
    "plt.figure(figsize=(7, 5))\n",
    "sns.countplot(data=df, x=\"Spender Category\", palette=\"viridis\", order=[\"Low Spender\", \"Medium Spender\", \"High Spender\"])\n",
    "plt.title(\"Customer Spending Segmentation\")\n",
    "plt.xlabel(\"Spender Category\")\n",
    "plt.ylabel(\"Count\")\n",
    "plt.show()\n",
    "\n"
   ]
  },
  {
   "cell_type": "markdown",
   "id": "kdaRacU5U5sv",
   "metadata": {
    "id": "kdaRacU5U5sv"
   },
   "source": []
  },
  {
   "cell_type": "code",
   "execution_count": 32,
   "id": "hyjXd5nEYd31",
   "metadata": {
    "colab": {
     "base_uri": "https://localhost:8080/",
     "height": 487
    },
    "id": "hyjXd5nEYd31",
    "outputId": "995344e9-705b-42b2-878e-098118f1cc47"
   },
   "outputs": [
    {
     "data": {
      "image/png": "[encoded data removed]",
      "text/plain": [
       "<Figure size 800x500 with 1 Axes>"
      ]
     },
     "metadata": {},
     "output_type": "display_data"
    }
   ],
   "source": [
    "#Spending Category by Gender\n",
    "plt.figure(figsize=(8, 5))\n",
    "sns.countplot(data=df, x=\"Spender Category\", hue=\"Gender\", palette=\"coolwarm\", order=[\"Low Spender\", \"Medium Spender\", \"High Spender\"])\n",
    "plt.title(\"Spending Category by Gender\")\n",
    "plt.xlabel(\"Spender Category\")\n",
    "plt.ylabel(\"Count\")\n",
    "plt.legend(title=\"Gender\")\n",
    "plt.show()\n"
   ]
  },
  {
   "cell_type": "markdown",
   "id": "o6-AIrBff52I",
   "metadata": {
    "id": "o6-AIrBff52I"
   },
   "source": [
    "\n",
    "## **3. Data Preprocessing**\n",
    "- Handle missing values (e.g., imputation or removal)  \n",
    "- Convert categorical variables to numerical (e.g., label encoding, one-hot encoding)  \n",
    "- Feature scaling (e.g., StandardScaler, MinMaxScaler)  \n"
   ]
  },
  {
   "cell_type": "code",
   "execution_count": 33,
   "id": "e1d486f7-709c-4f55-b606-655b6ca7ef9c",
   "metadata": {
    "id": "e1d486f7-709c-4f55-b606-655b6ca7ef9c"
   },
   "outputs": [],
   "source": [
    "# Label Encoding for Gender\n",
    "label_encoder = LabelEncoder()\n",
    "df[\"Gender\"] = label_encoder.fit_transform(df[\"Gender\"])  # Male = 1, Female = 0\n"
   ]
  },
  {
   "cell_type": "code",
   "execution_count": 34,
   "id": "h4XiCKw5MG3p",
   "metadata": {
    "colab": {
     "base_uri": "https://localhost:8080/"
    },
    "id": "h4XiCKw5MG3p",
    "outputId": "43b86de5-2e70-446d-e23f-b82d617ca38d"
   },
   "outputs": [
    {
     "name": "stdout",
     "output_type": "stream",
     "text": [
      "[0 2 1]\n"
     ]
    }
   ],
   "source": [
    "label_encoder = LabelEncoder()\n",
    "\n",
    "# Encode Spending Score as 0, 1, 2\n",
    "df[\"Spender Category\"] = label_encoder.fit_transform(df[\"Spender Category\"])\n",
    "\n",
    "# Verify unique values\n",
    "print(df[\"Spender Category\"].unique())\n"
   ]
  },
  {
   "cell_type": "code",
   "execution_count": 35,
   "id": "eJtbwlftaYml",
   "metadata": {
    "colab": {
     "base_uri": "https://localhost:8080/"
    },
    "id": "eJtbwlftaYml",
    "outputId": "4d37d2c6-c4f5-4aa1-fd22-28a8c674678b"
   },
   "outputs": [
    {
     "name": "stdout",
     "output_type": "stream",
     "text": [
      "        Age  Gender  Annual Income  Spending Score  Spender Category  \\\n",
      "0  0.166667       1       0.730511        0.888889                 0   \n",
      "1  0.555556       0       0.917278        0.949495                 0   \n",
      "2  0.611111       0       0.282798        0.757576                 0   \n",
      "3  0.069444       1       0.196930        0.565657                 2   \n",
      "4  0.083333       1       0.743143        0.757576                 0   \n",
      "\n",
      "   Total Spending  \n",
      "0        0.677546  \n",
      "1        0.884003  \n",
      "2        0.270227  \n",
      "3        0.158078  \n",
      "4        0.587122  \n"
     ]
    }
   ],
   "source": [
    "# Selecting numerical features\n",
    "num_cols = [\"Age\", \"Annual Income\", \"Spending Score\",\"Total Spending\"]\n",
    "#Min-Max Scaling\n",
    "minmax_scaler = MinMaxScaler()\n",
    "df[num_cols] = minmax_scaler.fit_transform(df[num_cols])\n",
    "\n",
    "print(df.head())"
   ]
  },
  {
   "cell_type": "code",
   "execution_count": 36,
   "id": "e8OUAsjTK3my",
   "metadata": {
    "colab": {
     "base_uri": "https://localhost:8080/"
    },
    "id": "e8OUAsjTK3my",
    "outputId": "e2fc8adf-6a04-45fa-baa3-eb388dceab0f"
   },
   "outputs": [
    {
     "data": {
      "text/plain": [
       "Index(['Age', 'Gender', 'Annual Income', 'Spending Score', 'Spender Category',\n",
       "       'Total Spending'],\n",
       "      dtype='object')"
      ]
     },
     "execution_count": 36,
     "metadata": {},
     "output_type": "execute_result"
    }
   ],
   "source": [
    "df.columns"
   ]
  },
  {
   "cell_type": "markdown",
   "id": "MPoP3djyf9Pa",
   "metadata": {
    "id": "MPoP3djyf9Pa"
   },
   "source": [
    "\n",
    "## **4. Split Data into Training and Testing Sets**\n",
    "- Use `train_test_split()` to divide data into training and test sets  \n",
    "- Set a `random_state` for reproducibility  \n"
   ]
  },
  {
   "cell_type": "code",
   "execution_count": 37,
   "id": "zU-PfHRIbCcP",
   "metadata": {
    "colab": {
     "base_uri": "https://localhost:8080/"
    },
    "id": "zU-PfHRIbCcP",
    "outputId": "b3b9ab7e-b3d7-49ac-c678-f0ee3aa73402"
   },
   "outputs": [
    {
     "name": "stdout",
     "output_type": "stream",
     "text": [
      "Training Set: (12063, 4) (12063,)\n",
      "Test Set: (3016, 4) (3016,)\n"
     ]
    }
   ],
   "source": [
    "# Define features (X) and target variable (y)\n",
    "X = df.drop(columns=[\"Spending Score\",\"Spender Category\"])\n",
    "y = df[\"Spender Category\"]\n",
    "\n",
    "# Split data: 80% training, 20% testing\n",
    "X_train, X_test, y_train, y_test = train_test_split(X, y, test_size=0.2, random_state=42)\n",
    "\n",
    "# Print dataset shapes\n",
    "print(\"Training Set:\", X_train.shape, y_train.shape)\n",
    "print(\"Test Set:\", X_test.shape, y_test.shape)\n"
   ]
  },
  {
   "cell_type": "markdown",
   "id": "G0vLWg1JgAOq",
   "metadata": {
    "id": "G0vLWg1JgAOq"
   },
   "source": [
    "\n",
    "## **5. Model Selection & Training**\n",
    "- Choose an appropriate ML model (e.g., Linear Regression, Decision Tree, SVM, etc.)  \n",
    "- Fit the model on the training data  \n"
   ]
  },
  {
   "cell_type": "code",
   "execution_count": 38,
   "id": "z8RpSykJIfXC",
   "metadata": {
    "id": "z8RpSykJIfXC"
   },
   "outputs": [],
   "source": [
    "dt_model = DecisionTreeClassifier(random_state=42)\n",
    "dt_model.fit(X_train, y_train)\n",
    "\n",
    "# Predict on the test set\n",
    "y_pred = dt_model.predict(X_test)\n",
    "accuracy = accuracy_score(y_test, y_pred)\n",
    "precision = precision_score(y_test, y_pred, average='weighted')\n",
    "recall = recall_score(y_test, y_pred, average='weighted')\n",
    "f1 = f1_score(y_test, y_pred, average='weighted')\n"
   ]
  },
  {
   "cell_type": "code",
   "execution_count": 39,
   "id": "TQ8aln0gNEjB",
   "metadata": {
    "id": "TQ8aln0gNEjB"
   },
   "outputs": [],
   "source": [
    "#Random Forest model\n",
    "rf_model = RandomForestClassifier(n_estimators=100, random_state=42)\n",
    "rf_model.fit(X_train, y_train)\n",
    "\n",
    "# Predict on the test set\n",
    "y_pred = rf_model.predict(X_test)\n",
    "accuracy_rf = accuracy_score(y_test, y_pred)\n",
    "precision_rf = precision_score(y_test, y_pred, average='weighted')\n",
    "recall_rf = recall_score(y_test, y_pred, average='weighted')\n",
    "f1_rf = f1_score(y_test, y_pred, average='weighted')"
   ]
  },
  {
   "cell_type": "code",
   "execution_count": 40,
   "id": "jMYxASFzQyUs",
   "metadata": {
    "id": "jMYxASFzQyUs"
   },
   "outputs": [],
   "source": [
    "#XGBoost Model\n",
    "xgb_model = XGBClassifier(n_estimators=200, max_depth=5, random_state=42)\n",
    "xgb_model.fit(X_train, y_train)\n",
    "y_pred = xgb_model.predict(X_test)\n",
    "\n"
   ]
  },
  {
   "cell_type": "markdown",
   "id": "uq9Ar0NMgDg5",
   "metadata": {
    "id": "uq9Ar0NMgDg5"
   },
   "source": [
    "\n",
    "## **6. Model Evaluation**\n",
    "- Make predictions on the test set  \n",
    "- Compute evaluation metrics:  \n",
    "  - **For Regression:** Mean Squared Error (MSE), R² Score  \n",
    "  - **For Classification:** Accuracy, Precision, Recall, F1-score, Confusion Matrix  \n"
   ]
  },
  {
   "cell_type": "code",
   "execution_count": 41,
   "id": "jngNJIBUNoOd",
   "metadata": {
    "colab": {
     "base_uri": "https://localhost:8080/"
    },
    "id": "jngNJIBUNoOd",
    "outputId": "bdc85a60-49f1-4273-a12b-c281ddefce36"
   },
   "outputs": [
    {
     "name": "stdout",
     "output_type": "stream",
     "text": [
      "Accuracy: 0.98\n",
      "Precision: 0.98\n",
      "Recall: 0.98\n",
      "F1-score: 0.98\n"
     ]
    }
   ],
   "source": [
    "#Evaluation Metrics for Decision Trees Model\n",
    "print(f\"Accuracy: {accuracy:.2f}\")\n",
    "print(f\"Precision: {precision:.2f}\")\n",
    "print(f\"Recall: {recall:.2f}\")\n",
    "print(f\"F1-score: {f1:.2f}\")\n"
   ]
  },
  {
   "cell_type": "code",
   "execution_count": 42,
   "id": "wV_xChBDORds",
   "metadata": {
    "colab": {
     "base_uri": "https://localhost:8080/"
    },
    "id": "wV_xChBDORds",
    "outputId": "dbda43f7-f509-4068-8d92-bf5b56fa5918"
   },
   "outputs": [
    {
     "name": "stdout",
     "output_type": "stream",
     "text": [
      "Random Forest Accuracy: 0.99\n",
      "Random Forest Precision: 0.99\n",
      "Random Forest Recall: 0.99\n",
      "Random Forest F1-score: 0.99\n"
     ]
    }
   ],
   "source": [
    "#Evaluation Metrics for Random Forests Model\n",
    "print(f\"Random Forest Accuracy: {accuracy_rf:.2f}\")\n",
    "print(f\"Random Forest Precision: {precision_rf:.2f}\")\n",
    "print(f\"Random Forest Recall: {recall_rf:.2f}\")\n",
    "print(f\"Random Forest F1-score: {f1_rf:.2f}\")\n"
   ]
  },
  {
   "cell_type": "markdown",
   "id": "xTk2sAVGTI1v",
   "metadata": {
    "id": "xTk2sAVGTI1v"
   },
   "source": [
    "The best Model is the Random Forests Model."
   ]
  },
  {
   "cell_type": "code",
   "execution_count": 44,
   "id": "B0WoUa7TTSHy",
   "metadata": {
    "colab": {
     "base_uri": "https://localhost:8080/"
    },
    "id": "B0WoUa7TTSHy",
    "outputId": "1548f8b8-8ddf-4b4e-f357-60890c746121"
   },
   "outputs": [
    {
     "name": "stdout",
     "output_type": "stream",
     "text": [
      "              precision    recall  f1-score   support\n",
      "\n",
      "           0       0.99      0.99      0.99      1073\n",
      "           1       0.99      0.99      0.99       976\n",
      "           2       0.98      0.98      0.98       967\n",
      "\n",
      "    accuracy                           0.99      3016\n",
      "   macro avg       0.99      0.99      0.99      3016\n",
      "weighted avg       0.99      0.99      0.99      3016\n",
      "\n"
     ]
    }
   ],
   "source": [
    "from sklearn.metrics import classification_report as rep\n",
    "print(rep(y_test, y_pred))"
   ]
  },
  {
   "cell_type": "code",
   "execution_count": 45,
   "id": "Zdet4EjGT1sW",
   "metadata": {
    "colab": {
     "base_uri": "https://localhost:8080/",
     "height": 466
    },
    "id": "Zdet4EjGT1sW",
    "outputId": "644e9233-b501-46bc-b1a7-77ea300ef172"
   },
   "outputs": [
    {
     "data": {
      "text/plain": [
       "<sklearn.metrics._plot.confusion_matrix.ConfusionMatrixDisplay at 0x7b7f3fd83990>"
      ]
     },
     "execution_count": 45,
     "metadata": {},
     "output_type": "execute_result"
    },
    {
     "data": {
      "image/png": "[encoded data removed]",
      "text/plain": [
       "<Figure size 640x480 with 2 Axes>"
      ]
     },
     "metadata": {},
     "output_type": "display_data"
    }
   ],
   "source": [
    "outs = ['Low Spender', 'Medium Spender', 'High Spender']\n",
    "cm = conf(y_test, y_pred)\n",
    "disp = cmd(confusion_matrix=cm, display_labels=outs)\n",
    "disp.plot()"
   ]
  },
  {
   "cell_type": "markdown",
   "id": "-As1MNyngHLu",
   "metadata": {
    "id": "-As1MNyngHLu"
   },
   "source": [
    "\n",
    "## **7. Model Saving & Deployment**\n",
    "- Save the trained model using `pickle` or `joblib`  \n",
    "- Load the saved model and test predictions on new data  \n"
   ]
  },
  {
   "cell_type": "code",
   "execution_count": 47,
   "id": "5GsTxxKZTvHe",
   "metadata": {
    "id": "5GsTxxKZTvHe"
   },
   "outputs": [],
   "source": [
    "with open(\"rf_model.pkl\", \"wb\") as file:\n",
    "    pickle.dump(rf_model, file)"
   ]
  },
  {
   "cell_type": "code",
   "execution_count": 48,
   "id": "F3kRas_cWIzU",
   "metadata": {
    "id": "F3kRas_cWIzU"
   },
   "outputs": [],
   "source": [
    "with open(\"rf_model.pkl\", \"rb\") as file:\n",
    "    loaded_rf = pickle.load(file)"
   ]
  },
  {
   "cell_type": "code",
   "execution_count": 43,
   "id": "C7lK_m9gh8yR",
   "metadata": {
    "id": "C7lK_m9gh8yR"
   },
   "outputs": [],
   "source": []
  }
 ],
 "metadata": {
  "colab": {
   "provenance": []
  },
  "kernelspec": {
   "display_name": "Python 3 (ipykernel)",
   "language": "python",
   "name": "python3"
  },
  "language_info": {
   "codemirror_mode": {
    "name": "ipython",
    "version": 3
   },
   "file_extension": ".py",
   "mimetype": "text/x-python",
   "name": "python",
   "nbconvert_exporter": "python",
   "pygments_lexer": "ipython3",
   "version": "3.12.7"
  }
 },
 "nbformat": 4,
 "nbformat_minor": 5
}
